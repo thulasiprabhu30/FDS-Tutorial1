{
 "cells": [
  {
   "cell_type": "code",
   "execution_count": 1,
   "id": "39e33179-d312-4744-8a76-5df68591c224",
   "metadata": {},
   "outputs": [
    {
     "name": "stdout",
     "output_type": "stream",
     "text": [
      "[[[1, 2, 3, 4], [5, 6, 7, 8], [4, 7, 8, 3]], [[1, 2, 3, 4], [1, 4, 6, 8], [8, 6, 7, 3]], [[7, 4, 5, 6], [3, 4, 1, 2], [6, 7, 3, 4]], [[1, 2, 3, 4], [5, 6, 7, 8], [4, 7, 8, 3]], [[1, 2, 3, 4], [1, 4, 6, 8], [8, 6, 7, 3]], [[7, 4, 5, 6], [3, 4, 1, 2], [6, 7, 3, 4]]]\n"
     ]
    }
   ],
   "source": [
    "# indexing of an array \n",
    "import numpy as np\n",
    "a=np.array1=([[[1,2,3,4],[5,6,7,8],[4,7,8,3]],\n",
    "               [[1,2,3,4],[1,4,6,8],[8,6,7,3]],\n",
    "               [[7,4,5,6],[3,4,1,2],[6,7,3,4]]])\n",
    "\n",
    "b=([[[1,2,3,4],[5,6,7,8],[4,7,8,3]],\n",
    "               [[1,2,3,4],[1,4,6,8],[8,6,7,3]],\n",
    "               [[7,4,5,6],[3,4,1,2],[6,7,3,4]]])\n",
    "print(a+b)"
   ]
  },
  {
   "cell_type": "code",
   "execution_count": 5,
   "id": "82a0c3be-3ffc-4dd2-918d-912254d07447",
   "metadata": {},
   "outputs": [
    {
     "name": "stdout",
     "output_type": "stream",
     "text": [
      "[1 2 3 4 5]\n"
     ]
    }
   ],
   "source": [
    "import numpy as np\n",
    "my_list = [1, 2, 3, 4, 5]\n",
    "my_array = np.array(my_list)\n",
    "\n",
    "print(my_array)\n"
   ]
  },
  {
   "cell_type": "code",
   "execution_count": 11,
   "id": "4f938f01-8c8f-4722-a986-60050b68247e",
   "metadata": {},
   "outputs": [
    {
     "name": "stdout",
     "output_type": "stream",
     "text": [
      "(5,)\n",
      "(2, 3)\n",
      "(2, 2, 3)\n"
     ]
    }
   ],
   "source": [
    "import numpy as np\n",
    "my_array = np.array ([1, 2, 3, 4, 5])\n",
    "print(my_array.shape) \n",
    "my_array = np.array ([[1, 2, 3], [4, 5, 6]])\n",
    "print(my_array.shape)  \n",
    "my_array = np.array ([[[1, 2, 3], [4, 5, 6]], [[7, 8, 9], [10, 11, 12]]])\n",
    "print(my_array.shape)  "
   ]
  },
  {
   "cell_type": "code",
   "execution_count": 13,
   "id": "3f50e26a-ef01-41bd-b905-295d62496bef",
   "metadata": {},
   "outputs": [
    {
     "name": "stdout",
     "output_type": "stream",
     "text": [
      "(12, 4)\n"
     ]
    }
   ],
   "source": [
    "import numpy as np\n",
    "my_array = np.array([[1, 2, 3], [4, 5, 6]])\n",
    "\n",
    "print(my_array.strides) "
   ]
  },
  {
   "cell_type": "code",
   "execution_count": 19,
   "id": "18c930b7-6589-46ee-bd86-b222ecdaed9d",
   "metadata": {},
   "outputs": [
    {
     "name": "stdout",
     "output_type": "stream",
     "text": [
      "Array 1:\n",
      " [1 2 3 4 5]\n",
      "Array 2:\n",
      " [[1 2 3]\n",
      " [4 5 6]]\n",
      "Array 3:\n",
      " [[[ 1  2  3]\n",
      "  [ 4  5  6]]\n",
      "\n",
      " [[ 7  8  9]\n",
      "  [10 11 12]]]\n",
      "Number of dimensions in Array 1: 1\n",
      "Number of dimensions in Array 2: 2\n",
      "Number of dimensions in Array 3: 3\n"
     ]
    }
   ],
   "source": [
    "import numpy as np\n",
    "arr1 = np.array([1, 2, 3, 4, 5])\n",
    "arr2 = np.array([[1, 2, 3],\n",
    "                 [4, 5, 6]])\n",
    "arr3 = np.array([[[1, 2, 3],\n",
    "                  [4, 5, 6]],\n",
    "                 [[7, 8, 9],\n",
    "                  [10, 11, 12]]])\n",
    "print(\"Array 1:\\n\", arr1)\n",
    "print(\"Array 2:\\n\", arr2)\n",
    "print(\"Array 3:\\n\", arr3)\n",
    "print(\"Number of dimensions in Array 1:\", arr1.ndim)\n",
    "print(\"Number of dimensions in Array 2:\", arr2.ndim)\n",
    "print(\"Number of dimensions in Array 3:\", arr3.ndim)"
   ]
  },
  {
   "cell_type": "code",
   "execution_count": 25,
   "id": "f1e9c1fe-4efb-404a-bd1d-0c8dcfac19d0",
   "metadata": {},
   "outputs": [
    {
     "name": "stdout",
     "output_type": "stream",
     "text": [
      "Number of elements in the array: 6\n"
     ]
    }
   ],
   "source": [
    "import numpy as np\n",
    "array = np.array([[1, 2, 3], [4, 5, 6]])\n",
    "num_elements = array.size\n",
    "print(\"Number of elements in the array:\", num_elements)"
   ]
  },
  {
   "cell_type": "code",
   "execution_count": 27,
   "id": "627f1db5-ea53-4adf-a266-7cf3f1a2260b",
   "metadata": {},
   "outputs": [
    {
     "name": "stdout",
     "output_type": "stream",
     "text": [
      "Size of each element: 4 bytes\n"
     ]
    }
   ],
   "source": [
    "import numpy as np\n",
    "\n",
    "array = np.array([1, 2, 3, 4], dtype=np.int32)\n",
    "\n",
    "element_size = array.itemsize\n",
    "\n",
    "print(f\"Size of each element: {element_size} bytes\")"
   ]
  },
  {
   "cell_type": "code",
   "execution_count": 29,
   "id": "c7212356-79d6-4e0d-a2d3-2134395bc152",
   "metadata": {},
   "outputs": [
    {
     "name": "stdout",
     "output_type": "stream",
     "text": [
      "Base array of view_array: [1 2 3 4]\n",
      "Base array of base_array: None\n"
     ]
    }
   ],
   "source": [
    "import numpy as np\n",
    "\n",
    "base_array = np.array([1, 2, 3, 4])\n",
    "\n",
    "view_array = base_array[1:3]\n",
    "\n",
    "print(\"Base array of view_array:\", view_array.base)\n",
    "print(\"Base array of base_array:\", base_array.base)  # This should print None"
   ]
  },
  {
   "cell_type": "code",
   "execution_count": 31,
   "id": "996fd142-da8d-42a8-9458-5950c9d85333",
   "metadata": {},
   "outputs": [
    {
     "name": "stdout",
     "output_type": "stream",
     "text": [
      "Total bytes consumed by the array: 16 bytes\n"
     ]
    }
   ],
   "source": [
    "import numpy as np\n",
    "\n",
    "array = np.array([1, 2, 3, 4], dtype=np.int32\n",
    "                \n",
    "total_bytes = array.nbytes\n",
    "\n",
    "print(f\"Total bytes consumed by the array: {total_bytes} bytes\")"
   ]
  },
  {
   "cell_type": "code",
   "execution_count": null,
   "id": "3f9dbd86-e9a6-4dcc-98d6-ce18c8170b77",
   "metadata": {},
   "outputs": [],
   "source": []
  }
 ],
 "metadata": {
  "kernelspec": {
   "display_name": "Python 3 (ipykernel)",
   "language": "python",
   "name": "python3"
  },
  "language_info": {
   "codemirror_mode": {
    "name": "ipython",
    "version": 3
   },
   "file_extension": ".py",
   "mimetype": "text/x-python",
   "name": "python",
   "nbconvert_exporter": "python",
   "pygments_lexer": "ipython3",
   "version": "3.12.4"
  }
 },
 "nbformat": 4,
 "nbformat_minor": 5
}
